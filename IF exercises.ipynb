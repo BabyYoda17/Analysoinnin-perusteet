{
 "cells": [
  {
   "cell_type": "code",
   "execution_count": 38,
   "metadata": {},
   "outputs": [
    {
     "name": "stdout",
     "output_type": "stream",
     "text": [
      "num1 ja num3 yhtäsuuria\n"
     ]
    }
   ],
   "source": [
    "num1=8\n",
    "num2=8\n",
    "num3=8\n",
    "if num1 > num2:\n",
    "    print(\"Oikein\")\n",
    "elif num1 == num3:\n",
    "    print(\"num1 ja num3 yhtäsuuria\")\n",
    "else:\n",
    "    print(\"Väärin\")\n",
    "\n",
    "\n",
    "    "
   ]
  },
  {
   "cell_type": "code",
   "execution_count": 45,
   "metadata": {},
   "outputs": [
    {
     "name": "stdout",
     "output_type": "stream",
     "text": [
      "ovat yhtäsuuria:)\n"
     ]
    }
   ],
   "source": [
    "name1=5\n",
    "name2=6\n",
    "name3=5\n",
    "if name1==name2:\n",
    "    print(\"yhtäsuuria\")\n",
    "elif name1==name3:\n",
    "    print(\"ovat yhtäsuuria:)\")\n",
    "else:\n",
    "    print(\"eivät ole yhtäsuuria\")"
   ]
  }
 ],
 "metadata": {
  "kernelspec": {
   "display_name": "Python 3",
   "language": "python",
   "name": "python3"
  },
  "language_info": {
   "codemirror_mode": {
    "name": "ipython",
    "version": 3
   },
   "file_extension": ".py",
   "mimetype": "text/x-python",
   "name": "python",
   "nbconvert_exporter": "python",
   "pygments_lexer": "ipython3",
   "version": "3.12.0"
  }
 },
 "nbformat": 4,
 "nbformat_minor": 2
}
