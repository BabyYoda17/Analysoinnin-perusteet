{
 "cells": [
  {
   "cell_type": "code",
   "execution_count": 1,
   "metadata": {},
   "outputs": [
    {
     "name": "stdout",
     "output_type": "stream",
     "text": [
      "Complete Furniture List:\n",
      "['Table', 'Chair', 'Shelf', 'Sofa', 'Bed', 'Desk']\n",
      "\n",
      "First Two Elements:\n",
      "['Table', 'Chair']\n",
      "\n",
      "Check for 'Sofa':\n",
      "Found 'Sofa'\n"
     ]
    }
   ],
   "source": [
    "# 1. Create a list and assign furniture as values\n",
    "furniture_list = [\"Table\", \"Chair\", \"Shelf\", \"Sofa\", \"Bed\", \"Desk\"]\n",
    "\n",
    "# 2. Print the whole list\n",
    "print(\"Complete Furniture List:\")\n",
    "print(furniture_list)\n",
    "\n",
    "# 3. Print only the first two elements of the list\n",
    "print(\"\\nFirst Two Elements:\")\n",
    "print(furniture_list[:2])  # Using slicing to get the first two elements\n",
    "\n",
    "# 4. Print only \"Sofa\" if found in the list\n",
    "print(\"\\nCheck for 'Sofa':\")\n",
    "for item in furniture_list:\n",
    "    if item == \"Sofa\":\n",
    "        print(\"Found 'Sofa'\")\n",
    "        break  # Stop searching once 'Sofa' is found\n",
    "else:\n",
    "    print(\"'Sofa' not found in the list\")\n"
   ]
  },
  {
   "cell_type": "code",
   "execution_count": 2,
   "metadata": {},
   "outputs": [
    {
     "name": "stdout",
     "output_type": "stream",
     "text": [
      "Thrown Dice Numbers:\n",
      "[3, 2, 1, 2, 3]\n",
      "\n",
      "Sum of Thrown Dice Numbers: 11\n",
      "\n",
      "Highest Value: 3\n"
     ]
    }
   ],
   "source": [
    "import random\n",
    "\n",
    "# Create a 5-element list named thrownDiceNumbers\n",
    "thrownDiceNumbers = []\n",
    "\n",
    "# Pick randomly 5 numbers and assign them to the list\n",
    "for _ in range(5):\n",
    "    thrownDiceNumbers.append(random.randint(1, 6))  \n",
    "\n",
    "# Print the whole list\n",
    "print(\"Thrown Dice Numbers:\")\n",
    "print(thrownDiceNumbers)\n",
    "\n",
    "total_sum = sum(thrownDiceNumbers)\n",
    "print(\"\\nSum of Thrown Dice Numbers:\", total_sum)\n",
    "\n",
    "highest_value = max(thrownDiceNumbers)\n",
    "print(\"\\nHighest Value:\", highest_value)\n"
   ]
  }
 ],
 "metadata": {
  "kernelspec": {
   "display_name": "Python 3",
   "language": "python",
   "name": "python3"
  },
  "language_info": {
   "codemirror_mode": {
    "name": "ipython",
    "version": 3
   },
   "file_extension": ".py",
   "mimetype": "text/x-python",
   "name": "python",
   "nbconvert_exporter": "python",
   "pygments_lexer": "ipython3",
   "version": "3.12.0"
  }
 },
 "nbformat": 4,
 "nbformat_minor": 2
}
