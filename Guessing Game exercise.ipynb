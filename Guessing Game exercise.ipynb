{
 "cells": [
  {
   "cell_type": "code",
   "execution_count": 4,
   "metadata": {},
   "outputs": [
    {
     "name": "stdout",
     "output_type": "stream",
     "text": [
      "Congratulations! Your guess is correct. It took you 2 guesses.\n",
      "Congratulations! Your guess is correct. It took you 3 guesses.\n",
      "Thank you for playing!\n"
     ]
    }
   ],
   "source": [
    "import random\n",
    "\n",
    "\n",
    "correct_name = \"John\"\n",
    "\n",
    "guesses = 0\n",
    "quit_game = False\n",
    "\n",
    "while not quit_game:\n",
    "    # Ask the user to guess the name\n",
    "    user_guess = input(\"Guess the name: \")\n",
    "\n",
    "    # Increment the number of guesses\n",
    "    guesses += 1\n",
    "\n",
    "    # Check if the guess is correct\n",
    "    if user_guess == correct_name:\n",
    "        print(f\"Congratulations! Your guess is correct. It took you {guesses} guesses.\")\n",
    "        \n",
    "        # Ask if the user wants to play again\n",
    "        play_again = input(\"Do you want to play again? (yes/no): \").lower()\n",
    "        if play_again != 'yes':\n",
    "            quit_game = True\n",
    "    else:\n",
    "        # Ask if the user wants to quit\n",
    "        quit_input = input(\"Incorrect guess. Do you want to quit? (yes/no): \").lower()\n",
    "        if quit_input == 'yes':\n",
    "            quit_game = True\n",
    "\n",
    "# Print a farewell message\n",
    "print(\"Thank you for playing!\")\n"
   ]
  }
 ],
 "metadata": {
  "kernelspec": {
   "display_name": "Python 3",
   "language": "python",
   "name": "python3"
  },
  "language_info": {
   "codemirror_mode": {
    "name": "ipython",
    "version": 3
   },
   "file_extension": ".py",
   "mimetype": "text/x-python",
   "name": "python",
   "nbconvert_exporter": "python",
   "pygments_lexer": "ipython3",
   "version": "3.12.0"
  }
 },
 "nbformat": 4,
 "nbformat_minor": 2
}
