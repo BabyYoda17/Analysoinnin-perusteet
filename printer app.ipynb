{
 "cells": [
  {
   "cell_type": "code",
   "execution_count": 39,
   "metadata": {},
   "outputs": [
    {
     "name": "stdout",
     "output_type": "stream",
     "text": [
      "Printer app\n"
     ]
    }
   ],
   "source": [
    "num1 = 5\n",
    "num2 = 5\n",
    "print(\"Printer app\")"
   ]
  },
  {
   "cell_type": "code",
   "execution_count": 19,
   "metadata": {},
   "outputs": [
    {
     "name": "stdout",
     "output_type": "stream",
     "text": [
      "This app is made by: Samuel\n"
     ]
    }
   ],
   "source": [
    "creator = (\"Samuel\")\n",
    "print(\"This app is made by:\" , creator)\n"
   ]
  },
  {
   "cell_type": "code",
   "execution_count": 43,
   "metadata": {},
   "outputs": [
    {
     "name": "stdout",
     "output_type": "stream",
     "text": [
      "The value of number1 is 7\n",
      "The value of number2 is 3\n"
     ]
    }
   ],
   "source": [
    "number1 = 7\n",
    "number2 = 3\n",
    "#print(num1) \n",
    "print(\"The value of number1 is\",number1)\n",
    "print(\"The value of number2 is\",number2)\n"
   ]
  },
  {
   "cell_type": "code",
   "execution_count": 33,
   "metadata": {},
   "outputs": [
    {
     "name": "stdout",
     "output_type": "stream",
     "text": [
      "5 * 2 = 10\n"
     ]
    }
   ],
   "source": [
    "\n",
    "multiplication = num1 * num2\n",
    "print(num1, \"*\" , num2, \"=\", multiplication)"
   ]
  },
  {
   "cell_type": "code",
   "execution_count": 34,
   "metadata": {},
   "outputs": [
    {
     "name": "stdout",
     "output_type": "stream",
     "text": [
      "5 + 2 = 7\n"
     ]
    }
   ],
   "source": [
    "addition=num1 +num2\n",
    "print(num1, \"+\",num2,\"=\",addition)"
   ]
  },
  {
   "cell_type": "code",
   "execution_count": 40,
   "metadata": {},
   "outputs": [
    {
     "name": "stdout",
     "output_type": "stream",
     "text": [
      "5 / 5 = 1.0\n"
     ]
    }
   ],
   "source": [
    "division=num1/num2\n",
    "print(num1,\"/\",num2,\"=\", division)"
   ]
  },
  {
   "cell_type": "code",
   "execution_count": 41,
   "metadata": {},
   "outputs": [
    {
     "name": "stdout",
     "output_type": "stream",
     "text": [
      "5 - 5 = 0\n"
     ]
    }
   ],
   "source": [
    "subsrtaction=num1-num2\n",
    "print(num1, \"-\", num2, \"=\", subsrtaction)"
   ]
  }
 ],
 "metadata": {
  "kernelspec": {
   "display_name": "Python 3",
   "language": "python",
   "name": "python3"
  },
  "language_info": {
   "codemirror_mode": {
    "name": "ipython",
    "version": 3
   },
   "file_extension": ".py",
   "mimetype": "text/x-python",
   "name": "python",
   "nbconvert_exporter": "python",
   "pygments_lexer": "ipython3",
   "version": "3.12.0"
  }
 },
 "nbformat": 4,
 "nbformat_minor": 2
}
