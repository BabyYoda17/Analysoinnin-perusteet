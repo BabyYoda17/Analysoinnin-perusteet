{
 "cells": [
  {
   "cell_type": "code",
   "execution_count": 15,
   "metadata": {},
   "outputs": [
    {
     "ename": "AttributeError",
     "evalue": "module 'pdb' has no attribute 'DataFrame'",
     "output_type": "error",
     "traceback": [
      "\u001b[1;31m---------------------------------------------------------------------------\u001b[0m",
      "\u001b[1;31mAttributeError\u001b[0m                            Traceback (most recent call last)",
      "\u001b[1;32mc:\\Koulu\\Analyysit\\Python ryhmätyö.ipynb Cell 1\u001b[0m line \u001b[0;36m6\n\u001b[0;32m      <a href='vscode-notebook-cell:/c%3A/Koulu/Analyysit/Python%20ryhm%C3%A4ty%C3%B6.ipynb#W0sZmlsZQ%3D%3D?line=2'>3</a>\u001b[0m \u001b[39mimport\u001b[39;00m \u001b[39mpandas\u001b[39;00m \u001b[39mas\u001b[39;00m \u001b[39mnd\u001b[39;00m\n\u001b[0;32m      <a href='vscode-notebook-cell:/c%3A/Koulu/Analyysit/Python%20ryhm%C3%A4ty%C3%B6.ipynb#W0sZmlsZQ%3D%3D?line=4'>5</a>\u001b[0m portions_data1 \u001b[39m=\u001b[39m {\u001b[39m'\u001b[39m\u001b[39morder_id\u001b[39m\u001b[39m'\u001b[39m: [\u001b[39m2\u001b[39m, \u001b[39m1\u001b[39m, \u001b[39m3\u001b[39m], \u001b[39m'\u001b[39m\u001b[39mitem_name\u001b[39m\u001b[39m'\u001b[39m: [\u001b[39m'\u001b[39m\u001b[39mBurger\u001b[39m\u001b[39m'\u001b[39m, \u001b[39m'\u001b[39m\u001b[39mPizza\u001b[39m\u001b[39m'\u001b[39m, \u001b[39m'\u001b[39m\u001b[39mSalad\u001b[39m\u001b[39m'\u001b[39m], \u001b[39m'\u001b[39m\u001b[39mquantity\u001b[39m\u001b[39m'\u001b[39m: [\u001b[39m2\u001b[39m, \u001b[39m1\u001b[39m, \u001b[39m3\u001b[39m]}\n\u001b[1;32m----> <a href='vscode-notebook-cell:/c%3A/Koulu/Analyysit/Python%20ryhm%C3%A4ty%C3%B6.ipynb#W0sZmlsZQ%3D%3D?line=5'>6</a>\u001b[0m orders_df \u001b[39m=\u001b[39m pdb\u001b[39m.\u001b[39;49mDataFrame(portions_data1)\n\u001b[0;32m      <a href='vscode-notebook-cell:/c%3A/Koulu/Analyysit/Python%20ryhm%C3%A4ty%C3%B6.ipynb#W0sZmlsZQ%3D%3D?line=7'>8</a>\u001b[0m \u001b[39m# Create Portions DataFrame\u001b[39;00m\n\u001b[0;32m      <a href='vscode-notebook-cell:/c%3A/Koulu/Analyysit/Python%20ryhm%C3%A4ty%C3%B6.ipynb#W0sZmlsZQ%3D%3D?line=8'>9</a>\u001b[0m portions_data2 \u001b[39m=\u001b[39m {\u001b[39m'\u001b[39m\u001b[39morder_id\u001b[39m\u001b[39m'\u001b[39m: [\u001b[39m4\u001b[39m, \u001b[39m6\u001b[39m, \u001b[39m5\u001b[39m], \u001b[39m'\u001b[39m\u001b[39mitem_name\u001b[39m\u001b[39m'\u001b[39m: [\u001b[39m'\u001b[39m\u001b[39mSoup\u001b[39m\u001b[39m'\u001b[39m, \u001b[39m'\u001b[39m\u001b[39mBurger\u001b[39m\u001b[39m'\u001b[39m, \u001b[39m'\u001b[39m\u001b[39mWok\u001b[39m\u001b[39m'\u001b[39m], \u001b[39m'\u001b[39m\u001b[39mquantity\u001b[39m\u001b[39m'\u001b[39m: [\u001b[39m1\u001b[39m, \u001b[39m3\u001b[39m, \u001b[39m4\u001b[39m]}\n",
      "\u001b[1;31mAttributeError\u001b[0m: module 'pdb' has no attribute 'DataFrame'"
     ]
    }
   ],
   "source": [
    "import pdb\n",
    "from turtle import pd\n",
    "import pandas as nd\n",
    "\n",
    "portions_data1 = {'order_id': [2, 1, 3], 'item_name': ['Burger', 'Pizza', 'Salad'], 'quantity': [2, 1, 3]}\n",
    "orders_df = pdb.DataFrame(portions_data1)\n",
    "\n",
    "# Create Portions DataFrame\n",
    "portions_data2 = {'order_id': [4, 6, 5], 'item_name': ['Soup', 'Burger', 'Wok'], 'quantity': [1, 3, 4]}\n",
    "portions_df = pd.DataFrame(portions_data2)\n",
    "\n",
    "pd.concat ([orders_df, portions_df])\n",
    "print(pd.concat)\n"
   ]
  },
  {
   "cell_type": "code",
   "execution_count": null,
   "metadata": {},
   "outputs": [],
   "source": []
  }
 ],
 "metadata": {
  "kernelspec": {
   "display_name": "Python 3",
   "language": "python",
   "name": "python3"
  },
  "language_info": {
   "codemirror_mode": {
    "name": "ipython",
    "version": 3
   },
   "file_extension": ".py",
   "mimetype": "text/x-python",
   "name": "python",
   "nbconvert_exporter": "python",
   "pygments_lexer": "ipython3",
   "version": "3.12.0"
  }
 },
 "nbformat": 4,
 "nbformat_minor": 2
}
